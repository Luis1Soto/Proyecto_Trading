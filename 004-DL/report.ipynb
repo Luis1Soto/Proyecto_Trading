{
 "cells": [
  {
   "cell_type": "markdown",
   "id": "db49f362",
   "metadata": {},
   "source": [
    "![ML](https://i.pinimg.com/originals/17/b6/8e/17b68ed7a1a1f1e4c97aa35cc313cf75.jpg)"
   ]
  },
  {
   "cell_type": "markdown",
   "id": "a69f7683",
   "metadata": {},
   "source": [
    "---"
   ]
  },
  {
   "cell_type": "markdown",
   "id": "c52616de",
   "metadata": {},
   "source": [
    "### <font color='navy'>  Instructions <font color='black'> \n",
    "\n",
    "* Follow a Python Project structure.\n",
    "* Work with a training and validation dataset to optimize & test your trading strategies using the datasets provided in the introduction section.\n",
    "* The DL models that we'll be using are Deep Neural Networks (traditional dense model), Recurrent Neural Networks (LSTM), Convolutional NN, ConvLSTM, Transformers, etc.\n",
    "* Define the independent and dependent variables to train the models, remember that you can add any technical indicator to your dataset.\n",
    "* Split the `train` datasets into train/test.\n",
    "* Our dependent variable should be a category that we want to predict, i.e. \"Buy\" and \"Not buy\", or \"Sell\" and \"Not sell\" for the short models, we can construct it if the next k price is over / under a certain threshold.\n",
    "* For each model, fine tune all hyperparameters worth moving, then you can easily generate the True / False signals to backtest.\n",
    "* Be careful when selecting a metric to fine-tune.\n",
    "* For each dataset train/test pair (1d, 1h, 5m, 1m):\n",
    "\n",
    "    * Use the buy/sell signals from the predictions.\n",
    "    * Create all possible combinations of all machine learning models (2^n - 1, 7...).\n",
    "    * Backtest the strategies while keeping track of the operations and cash/portfolio value time series, remember that we'll be opening long & short positions.\n",
    "    * Optimize the backtest parameters (TPE, Grid Search, PSO, Genetic Algorithms, ...), stop-loss/take-profit, volume of the trade, maximizing the profit of the strategy with the training dataset, consider the bounds of each variable!\n",
    "    * Select the optimal strategy and describe it thoroughly (X, y variables used, a brief description of the ML models, results).\n",
    "    * Now, use the optimal strategy with the test dataset and compare it to a passive strategy."
   ]
  },
  {
   "cell_type": "markdown",
   "id": "0683c92e",
   "metadata": {},
   "source": [
    "-------"
   ]
  },
  {
   "cell_type": "code",
   "execution_count": 5,
   "id": "f373b7f4",
   "metadata": {
    "scrolled": false
   },
   "outputs": [],
   "source": [
    "from deep_learning import Operation, TradingStrategy\n",
    "from pasiva import calcular_rendimiento_pasiva"
   ]
  },
  {
   "cell_type": "code",
   "execution_count": 6,
   "id": "c4c07ee0",
   "metadata": {
    "scrolled": false
   },
   "outputs": [],
   "source": [
    "strategy = TradingStrategy('5m')"
   ]
  },
  {
   "cell_type": "code",
   "execution_count": 7,
   "id": "1b326ead",
   "metadata": {},
   "outputs": [
    {
     "name": "stderr",
     "output_type": "stream",
     "text": [
      "[I 2024-04-10 14:19:34,338] A new study created in memory with name: no-name-ddf1c2e5-5938-48bc-843e-a498132b75e2\n",
      "/Users/luisrobles/Desktop/anaconda3/lib/python3.11/site-packages/keras/src/layers/convolutional/base_conv.py:99: UserWarning: Do not pass an `input_shape`/`input_dim` argument to a layer. When using Sequential models, prefer using an `Input(shape)` object as the first layer in the model instead.\n",
      "  super().__init__(\n",
      "[I 2024-04-10 14:19:37,759] Trial 0 finished with value: 0.512774646282196 and parameters: {'n_layers': 1, 'activation': 'sigmoid', 'filters_first': 40, 'kernel_size_first': 5, 'dense_units': 30}. Best is trial 0 with value: 0.512774646282196.\n",
      "[I 2024-04-10 14:19:41,748] Trial 1 finished with value: 0.48722535371780396 and parameters: {'n_layers': 2, 'activation': 'sigmoid', 'filters_first': 30, 'kernel_size_first': 6, 'filters_2': 16, 'kernel_size_2': 2, 'dense_units': 49}. Best is trial 0 with value: 0.512774646282196.\n",
      "[I 2024-04-10 14:19:47,800] Trial 2 finished with value: 0.512774646282196 and parameters: {'n_layers': 3, 'activation': 'relu', 'filters_first': 35, 'kernel_size_first': 5, 'filters_2': 18, 'kernel_size_2': 3, 'filters_3': 63, 'kernel_size_3': 6, 'dense_units': 60}. Best is trial 0 with value: 0.512774646282196.\n",
      "[I 2024-04-10 14:19:55,820] Trial 3 finished with value: 0.512774646282196 and parameters: {'n_layers': 3, 'activation': 'relu', 'filters_first': 54, 'kernel_size_first': 5, 'filters_2': 63, 'kernel_size_2': 6, 'filters_3': 21, 'kernel_size_3': 3, 'dense_units': 20}. Best is trial 0 with value: 0.512774646282196.\n",
      "[I 2024-04-10 14:20:00,678] Trial 4 finished with value: 0.512774646282196 and parameters: {'n_layers': 2, 'activation': 'relu', 'filters_first': 56, 'kernel_size_first': 2, 'filters_2': 18, 'kernel_size_2': 4, 'dense_units': 57}. Best is trial 0 with value: 0.512774646282196.\n",
      "[I 2024-04-10 14:20:04,117] Trial 5 finished with value: 0.512774646282196 and parameters: {'n_layers': 1, 'activation': 'tanh', 'filters_first': 36, 'kernel_size_first': 5, 'dense_units': 56}. Best is trial 0 with value: 0.512774646282196.\n",
      "[I 2024-04-10 14:20:08,768] Trial 6 finished with value: 0.512774646282196 and parameters: {'n_layers': 2, 'activation': 'relu', 'filters_first': 51, 'kernel_size_first': 2, 'filters_2': 24, 'kernel_size_2': 3, 'dense_units': 26}. Best is trial 0 with value: 0.512774646282196.\n",
      "[I 2024-04-10 14:20:12,047] Trial 7 finished with value: 0.48722535371780396 and parameters: {'n_layers': 1, 'activation': 'tanh', 'filters_first': 27, 'kernel_size_first': 5, 'dense_units': 31}. Best is trial 0 with value: 0.512774646282196.\n",
      "[I 2024-04-10 14:20:16,437] Trial 8 finished with value: 0.512774646282196 and parameters: {'n_layers': 2, 'activation': 'sigmoid', 'filters_first': 24, 'kernel_size_first': 4, 'filters_2': 59, 'kernel_size_2': 2, 'dense_units': 59}. Best is trial 0 with value: 0.512774646282196.\n",
      "[I 2024-04-10 14:20:21,390] Trial 9 finished with value: 0.512774646282196 and parameters: {'n_layers': 3, 'activation': 'relu', 'filters_first': 19, 'kernel_size_first': 6, 'filters_2': 19, 'kernel_size_2': 3, 'filters_3': 61, 'kernel_size_3': 4, 'dense_units': 59}. Best is trial 0 with value: 0.512774646282196.\n"
     ]
    },
    {
     "name": "stdout",
     "output_type": "stream",
     "text": [
      "Mejores hiperparámetros: {'n_layers': 1, 'activation': 'sigmoid', 'filters_first': 40, 'kernel_size_first': 5, 'dense_units': 30}\n",
      "Epoch 1/10\n",
      "\u001b[1m991/991\u001b[0m \u001b[32m━━━━━━━━━━━━━━━━━━━━\u001b[0m\u001b[37m\u001b[0m \u001b[1m1s\u001b[0m 355us/step - accuracy: 0.5019 - loss: 0.6976 - val_accuracy: 0.5081 - val_loss: 0.6950\n",
      "Epoch 2/10\n",
      "\u001b[1m991/991\u001b[0m \u001b[32m━━━━━━━━━━━━━━━━━━━━\u001b[0m\u001b[37m\u001b[0m \u001b[1m0s\u001b[0m 305us/step - accuracy: 0.4984 - loss: 0.6939 - val_accuracy: 0.5081 - val_loss: 0.6931\n",
      "Epoch 3/10\n",
      "\u001b[1m991/991\u001b[0m \u001b[32m━━━━━━━━━━━━━━━━━━━━\u001b[0m\u001b[37m\u001b[0m \u001b[1m0s\u001b[0m 303us/step - accuracy: 0.4993 - loss: 0.6939 - val_accuracy: 0.5081 - val_loss: 0.6930\n",
      "Epoch 4/10\n",
      "\u001b[1m991/991\u001b[0m \u001b[32m━━━━━━━━━━━━━━━━━━━━\u001b[0m\u001b[37m\u001b[0m \u001b[1m0s\u001b[0m 304us/step - accuracy: 0.5044 - loss: 0.6934 - val_accuracy: 0.4919 - val_loss: 0.6936\n",
      "Epoch 5/10\n",
      "\u001b[1m991/991\u001b[0m \u001b[32m━━━━━━━━━━━━━━━━━━━━\u001b[0m\u001b[37m\u001b[0m \u001b[1m0s\u001b[0m 303us/step - accuracy: 0.5008 - loss: 0.6936 - val_accuracy: 0.4919 - val_loss: 0.6937\n",
      "Epoch 6/10\n",
      "\u001b[1m991/991\u001b[0m \u001b[32m━━━━━━━━━━━━━━━━━━━━\u001b[0m\u001b[37m\u001b[0m \u001b[1m0s\u001b[0m 304us/step - accuracy: 0.4993 - loss: 0.6936 - val_accuracy: 0.4919 - val_loss: 0.6949\n",
      "Epoch 7/10\n",
      "\u001b[1m991/991\u001b[0m \u001b[32m━━━━━━━━━━━━━━━━━━━━\u001b[0m\u001b[37m\u001b[0m \u001b[1m0s\u001b[0m 303us/step - accuracy: 0.5019 - loss: 0.6935 - val_accuracy: 0.5081 - val_loss: 0.6931\n",
      "Epoch 8/10\n",
      "\u001b[1m991/991\u001b[0m \u001b[32m━━━━━━━━━━━━━━━━━━━━\u001b[0m\u001b[37m\u001b[0m \u001b[1m0s\u001b[0m 302us/step - accuracy: 0.5087 - loss: 0.6929 - val_accuracy: 0.5081 - val_loss: 0.6930\n",
      "Epoch 9/10\n",
      "\u001b[1m991/991\u001b[0m \u001b[32m━━━━━━━━━━━━━━━━━━━━\u001b[0m\u001b[37m\u001b[0m \u001b[1m0s\u001b[0m 308us/step - accuracy: 0.5038 - loss: 0.6934 - val_accuracy: 0.4919 - val_loss: 0.6935\n",
      "Epoch 10/10\n",
      "\u001b[1m991/991\u001b[0m \u001b[32m━━━━━━━━━━━━━━━━━━━━\u001b[0m\u001b[37m\u001b[0m \u001b[1m0s\u001b[0m 304us/step - accuracy: 0.5040 - loss: 0.6933 - val_accuracy: 0.4919 - val_loss: 0.6958\n"
     ]
    }
   ],
   "source": [
    "strategy.optimize_cnn()"
   ]
  },
  {
   "cell_type": "code",
   "execution_count": 8,
   "id": "ea3c8b56",
   "metadata": {
    "scrolled": false
   },
   "outputs": [
    {
     "name": "stdout",
     "output_type": "stream",
     "text": [
      "Unexpected exception formatting exception. Falling back to standard exception\n"
     ]
    },
    {
     "name": "stderr",
     "output_type": "stream",
     "text": [
      "Traceback (most recent call last):\n",
      "  File \"/Users/luisrobles/Desktop/anaconda3/lib/python3.11/site-packages/IPython/core/interactiveshell.py\", line 3505, in run_code\n",
      "    exec(code_obj, self.user_global_ns, self.user_ns)\n",
      "  File \"/var/folders/64/fgkl3fks7m33skzrpztqylr00000gn/T/ipykernel_26095/716463820.py\", line 1, in <module>\n",
      "    strategy.optimize_and_fit_models()\n",
      "  File \"/Users/luisrobles/Documents/GitHub/Proyecto_Trading/004-DL/deep_learning.py\", line 243, in optimize_and_fit_models\n",
      "NameError: name 'build_and_train_dnn' is not defined\n",
      "\n",
      "During handling of the above exception, another exception occurred:\n",
      "\n",
      "Traceback (most recent call last):\n",
      "  File \"/Users/luisrobles/Desktop/anaconda3/lib/python3.11/site-packages/IPython/core/interactiveshell.py\", line 2102, in showtraceback\n",
      "    stb = self.InteractiveTB.structured_traceback(\n",
      "          ^^^^^^^^^^^^^^^^^^^^^^^^^^^^^^^^^^^^^^^^\n",
      "  File \"/Users/luisrobles/Desktop/anaconda3/lib/python3.11/site-packages/IPython/core/ultratb.py\", line 1310, in structured_traceback\n",
      "    return FormattedTB.structured_traceback(\n",
      "           ^^^^^^^^^^^^^^^^^^^^^^^^^^^^^^^^^\n",
      "  File \"/Users/luisrobles/Desktop/anaconda3/lib/python3.11/site-packages/IPython/core/ultratb.py\", line 1199, in structured_traceback\n",
      "    return VerboseTB.structured_traceback(\n",
      "           ^^^^^^^^^^^^^^^^^^^^^^^^^^^^^^^\n",
      "  File \"/Users/luisrobles/Desktop/anaconda3/lib/python3.11/site-packages/IPython/core/ultratb.py\", line 1052, in structured_traceback\n",
      "    formatted_exception = self.format_exception_as_a_whole(etype, evalue, etb, number_of_lines_of_context,\n",
      "                          ^^^^^^^^^^^^^^^^^^^^^^^^^^^^^^^^^^^^^^^^^^^^^^^^^^^^^^^^^^^^^^^^^^^^^^^^^^^^^^^^\n",
      "  File \"/Users/luisrobles/Desktop/anaconda3/lib/python3.11/site-packages/IPython/core/ultratb.py\", line 978, in format_exception_as_a_whole\n",
      "    frames.append(self.format_record(record))\n",
      "                  ^^^^^^^^^^^^^^^^^^^^^^^^^^\n",
      "  File \"/Users/luisrobles/Desktop/anaconda3/lib/python3.11/site-packages/IPython/core/ultratb.py\", line 878, in format_record\n",
      "    frame_info.lines, Colors, self.has_colors, lvals\n",
      "    ^^^^^^^^^^^^^^^^\n",
      "  File \"/Users/luisrobles/Desktop/anaconda3/lib/python3.11/site-packages/IPython/core/ultratb.py\", line 712, in lines\n",
      "    return self._sd.lines\n",
      "           ^^^^^^^^^^^^^^\n",
      "  File \"/Users/luisrobles/Desktop/anaconda3/lib/python3.11/site-packages/stack_data/utils.py\", line 145, in cached_property_wrapper\n",
      "    value = obj.__dict__[self.func.__name__] = self.func(obj)\n",
      "                                               ^^^^^^^^^^^^^^\n",
      "  File \"/Users/luisrobles/Desktop/anaconda3/lib/python3.11/site-packages/stack_data/core.py\", line 698, in lines\n",
      "    pieces = self.included_pieces\n",
      "             ^^^^^^^^^^^^^^^^^^^^\n",
      "  File \"/Users/luisrobles/Desktop/anaconda3/lib/python3.11/site-packages/stack_data/utils.py\", line 145, in cached_property_wrapper\n",
      "    value = obj.__dict__[self.func.__name__] = self.func(obj)\n",
      "                                               ^^^^^^^^^^^^^^\n",
      "  File \"/Users/luisrobles/Desktop/anaconda3/lib/python3.11/site-packages/stack_data/core.py\", line 649, in included_pieces\n",
      "    pos = scope_pieces.index(self.executing_piece)\n",
      "                             ^^^^^^^^^^^^^^^^^^^^\n",
      "  File \"/Users/luisrobles/Desktop/anaconda3/lib/python3.11/site-packages/stack_data/utils.py\", line 145, in cached_property_wrapper\n",
      "    value = obj.__dict__[self.func.__name__] = self.func(obj)\n",
      "                                               ^^^^^^^^^^^^^^\n",
      "  File \"/Users/luisrobles/Desktop/anaconda3/lib/python3.11/site-packages/stack_data/core.py\", line 628, in executing_piece\n",
      "    return only(\n",
      "           ^^^^^\n",
      "  File \"/Users/luisrobles/Desktop/anaconda3/lib/python3.11/site-packages/executing/executing.py\", line 164, in only\n",
      "    raise NotOneValueFound('Expected one value, found 0')\n",
      "executing.executing.NotOneValueFound: Expected one value, found 0\n"
     ]
    }
   ],
   "source": [
    "strategy.optimize_and_fit_models()"
   ]
  },
  {
   "cell_type": "code",
   "execution_count": null,
   "id": "563ca5bc",
   "metadata": {},
   "outputs": [],
   "source": [
    "strategy.run_combinations()"
   ]
  },
  {
   "cell_type": "code",
   "execution_count": null,
   "id": "6569b97a",
   "metadata": {},
   "outputs": [],
   "source": [
    "strategy.plot_results(best = True)"
   ]
  },
  {
   "cell_type": "code",
   "execution_count": null,
   "id": "3687a783",
   "metadata": {
    "scrolled": false
   },
   "outputs": [],
   "source": [
    "strategy.optimize_trade_parameters()"
   ]
  },
  {
   "cell_type": "code",
   "execution_count": null,
   "id": "c36d0403",
   "metadata": {},
   "outputs": [],
   "source": [
    "strategy.plot_results(best = True)"
   ]
  },
  {
   "cell_type": "markdown",
   "id": "8706fe08",
   "metadata": {},
   "source": [
    "### <font color='navy'>  Analysis <font color='black'> "
   ]
  },
  {
   "cell_type": "markdown",
   "id": "8d043337",
   "metadata": {},
   "source": [
    "## Strategy Results\n",
    "Running possible combinations using Machine Learning, the best result was the combination of indicators:\n",
    "\n",
    "['Logistic', 'SVM']\n",
    "\n",
    "With a strategy value of: **959594.395839**\n",
    "The initial fund value was **$100,000**, indicating a loss of\n",
    "\n",
    "**-4.04%**\n",
    "\n",
    "Both logistic regression and SVM are supervised learning algorithms primarily used for classification tasks. These models are useful when predicting membership in a class or category, rather than predicting a continuous value such as the price of a stock.\n",
    "\n",
    "The best parameters we found for our stop loss and take profit were:\n",
    "\n",
    "Best parameters found: {'stop_loss_pct': 0.9209330707888167, 'take_profit_pct': 1.029364749288107, 'n_shares': 1}\n",
    "This indicates a risk ratio of 1.11 which is quite balanced."
   ]
  },
  {
   "cell_type": "markdown",
   "id": "0fd8caeb",
   "metadata": {},
   "source": [
    "## We encounter two main issues.\n",
    "1. Model limitations: Logistic regression and SVM models may not be the most suitable for predicting stock performance, as they are primarily designed for binary or multiclass classification problems. When applied to regression problems, such as predicting stock performance, they may not adequately capture the complexity of stock market behavior.\n",
    "\n",
    "2. Insufficient features: Logistic regression and SVM require significant and relevant features to make accurate predictions. If the features used to train the models do not adequately capture the variability and factors influencing stock performance, the models are likely to generate inaccurate predictions, leading to negative returns."
   ]
  },
  {
   "cell_type": "markdown",
   "id": "d70bd42f",
   "metadata": {},
   "source": [
    "# Passive Strategy vs Machine Learning Strategy\n"
   ]
  },
  {
   "cell_type": "code",
   "execution_count": null,
   "id": "86b88dba",
   "metadata": {},
   "outputs": [],
   "source": [
    "calcular_rendimiento_pasiva()"
   ]
  },
  {
   "cell_type": "markdown",
   "id": "0307782b",
   "metadata": {},
   "source": [
    "# Conclusions\n",
    "The limitations of logistic regression and SVM models lie in their inability to capture complex and non-linear relationships between input and output variables, as well as their sensitivity to the quality and quantity of training data, which can affect their ability to generalize adequately to new and unseen data.\n",
    "\n",
    "While it is possible to apply logistic regression and SVM models to predict the performance of stocks such as AAPL, it is important to consider the limitations and challenges associated with these models. Negative returns over time may be obtained due to the inherent complexity and volatility of the stock market, as well as the limitations of the models themselves.\n",
    "\n",
    "Although machine learning-based strategies may offer opportunities to enhance performance and optimize investment decision-making, the results of this comparison underscore the need for critical analysis and deep understanding of the market and the models used. It is essential to consider not only the potential for gains but also the ability to mitigate risks and adapt to market volatility. Combining passive and algorithmic approaches may offer a balance that leverages the strengths of each approach and leads to more consistent and satisfying long-term results.\n",
    "\n"
   ]
  },
  {
   "cell_type": "code",
   "execution_count": null,
   "id": "3128e7d5",
   "metadata": {},
   "outputs": [],
   "source": []
  }
 ],
 "metadata": {
  "kernelspec": {
   "display_name": "Python 3 (ipykernel)",
   "language": "python",
   "name": "python3"
  },
  "language_info": {
   "codemirror_mode": {
    "name": "ipython",
    "version": 3
   },
   "file_extension": ".py",
   "mimetype": "text/x-python",
   "name": "python",
   "nbconvert_exporter": "python",
   "pygments_lexer": "ipython3",
   "version": "3.11.4"
  }
 },
 "nbformat": 4,
 "nbformat_minor": 5
}
