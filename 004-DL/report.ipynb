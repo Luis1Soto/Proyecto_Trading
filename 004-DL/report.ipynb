{
 "cells": [
  {
   "cell_type": "markdown",
   "id": "db49f362",
   "metadata": {},
   "source": [
    "![ML](https://i.pinimg.com/originals/17/b6/8e/17b68ed7a1a1f1e4c97aa35cc313cf75.jpg)"
   ]
  },
  {
   "cell_type": "markdown",
   "id": "a69f7683",
   "metadata": {},
   "source": [
    "---"
   ]
  },
  {
   "cell_type": "markdown",
   "id": "c52616de",
   "metadata": {},
   "source": [
    "### <font color='navy'>  Instructions <font color='black'> \n",
    "\n",
    "* Follow a Python Project structure.\n",
    "* Work with a training and validation dataset to optimize & test your trading strategies using the datasets provided in the introduction section.\n",
    "* The DL models that we'll be using are Deep Neural Networks (traditional dense model), Recurrent Neural Networks (LSTM), Convolutional NN, ConvLSTM, Transformers, etc.\n",
    "* Define the independent and dependent variables to train the models, remember that you can add any technical indicator to your dataset.\n",
    "* Split the `train` datasets into train/test.\n",
    "* Our dependent variable should be a category that we want to predict, i.e. \"Buy\" and \"Not buy\", or \"Sell\" and \"Not sell\" for the short models, we can construct it if the next k price is over / under a certain threshold.\n",
    "* For each model, fine tune all hyperparameters worth moving, then you can easily generate the True / False signals to backtest.\n",
    "* Be careful when selecting a metric to fine-tune.\n",
    "* For each dataset train/test pair (1d, 1h, 5m, 1m):\n",
    "\n",
    "    * Use the buy/sell signals from the predictions.\n",
    "    * Create all possible combinations of all machine learning models (2^n - 1, 7...).\n",
    "    * Backtest the strategies while keeping track of the operations and cash/portfolio value time series, remember that we'll be opening long & short positions.\n",
    "    * Optimize the backtest parameters (TPE, Grid Search, PSO, Genetic Algorithms, ...), stop-loss/take-profit, volume of the trade, maximizing the profit of the strategy with the training dataset, consider the bounds of each variable!\n",
    "    * Select the optimal strategy and describe it thoroughly (X, y variables used, a brief description of the ML models, results).\n",
    "    * Now, use the optimal strategy with the test dataset and compare it to a passive strategy."
   ]
  },
  {
   "cell_type": "markdown",
   "id": "0683c92e",
   "metadata": {},
   "source": [
    "-------"
   ]
  },
  {
   "cell_type": "code",
   "execution_count": 1,
   "id": "f373b7f4",
   "metadata": {
    "scrolled": false
   },
   "outputs": [],
   "source": [
    "from deep_learning import Operation, TradingStrategy\n",
    "from pasiva import calcular_rendimiento_pasiva"
   ]
  },
  {
   "cell_type": "code",
   "execution_count": 4,
   "id": "c4c07ee0",
   "metadata": {
    "scrolled": false
   },
   "outputs": [],
   "source": [
    "strategy = TradingStrategy('5m')"
   ]
  },
  {
   "cell_type": "code",
   "execution_count": null,
   "id": "1b326ead",
   "metadata": {},
   "outputs": [],
   "source": []
  },
  {
   "cell_type": "code",
   "execution_count": null,
   "id": "91638808",
   "metadata": {},
   "outputs": [],
   "source": []
  },
  {
   "cell_type": "code",
   "execution_count": null,
   "id": "e6c25ca8",
   "metadata": {},
   "outputs": [],
   "source": []
  },
  {
   "cell_type": "code",
   "execution_count": 3,
   "id": "ea3c8b56",
   "metadata": {
    "scrolled": false
   },
   "outputs": [
    {
     "ename": "AttributeError",
     "evalue": "'TradingStrategy' object has no attribute 'prepare_data_for_ml'",
     "output_type": "error",
     "traceback": [
      "\u001b[0;31m---------------------------------------------------------------------------\u001b[0m",
      "\u001b[0;31mAttributeError\u001b[0m                            Traceback (most recent call last)",
      "Cell \u001b[0;32mIn[3], line 1\u001b[0m\n\u001b[0;32m----> 1\u001b[0m strategy\u001b[38;5;241m.\u001b[39moptimize_and_fit_models()\n",
      "File \u001b[0;32m~/Documents/GitHub/Proyecto_Trading/004-DL/deep_learning.py:270\u001b[0m, in \u001b[0;36mTradingStrategy.optimize_and_fit_models\u001b[0;34m(self)\u001b[0m\n\u001b[1;32m    269\u001b[0m \u001b[38;5;28;01mdef\u001b[39;00m \u001b[38;5;21moptimize_and_fit_models\u001b[39m(\u001b[38;5;28mself\u001b[39m):\n\u001b[0;32m--> 270\u001b[0m     \u001b[38;5;28mself\u001b[39m\u001b[38;5;241m.\u001b[39mprepare_data_for_ml()\n\u001b[1;32m    271\u001b[0m     \u001b[38;5;28mself\u001b[39m\u001b[38;5;241m.\u001b[39mprepare_data_for_log_model()\n\u001b[1;32m    273\u001b[0m     \u001b[38;5;28mself\u001b[39m\u001b[38;5;241m.\u001b[39mfit_logistic_regression(\u001b[38;5;28mself\u001b[39m\u001b[38;5;241m.\u001b[39mX_vtrain, \u001b[38;5;28mself\u001b[39m\u001b[38;5;241m.\u001b[39my_vtrain_buy, \u001b[38;5;28mself\u001b[39m\u001b[38;5;241m.\u001b[39mX_vtest, \u001b[38;5;28mself\u001b[39m\u001b[38;5;241m.\u001b[39my_vtest_buy, direction\u001b[38;5;241m=\u001b[39m\u001b[38;5;124m'\u001b[39m\u001b[38;5;124mbuy\u001b[39m\u001b[38;5;124m'\u001b[39m)\n",
      "\u001b[0;31mAttributeError\u001b[0m: 'TradingStrategy' object has no attribute 'prepare_data_for_ml'"
     ]
    }
   ],
   "source": [
    "strategy.optimize_and_fit_models()"
   ]
  },
  {
   "cell_type": "code",
   "execution_count": null,
   "id": "563ca5bc",
   "metadata": {},
   "outputs": [],
   "source": [
    "strategy.run_combinations()"
   ]
  },
  {
   "cell_type": "code",
   "execution_count": null,
   "id": "6569b97a",
   "metadata": {},
   "outputs": [],
   "source": [
    "strategy.plot_results(best = True)"
   ]
  },
  {
   "cell_type": "code",
   "execution_count": null,
   "id": "3687a783",
   "metadata": {
    "scrolled": false
   },
   "outputs": [],
   "source": [
    "strategy.optimize_trade_parameters()"
   ]
  },
  {
   "cell_type": "code",
   "execution_count": null,
   "id": "c36d0403",
   "metadata": {},
   "outputs": [],
   "source": [
    "strategy.plot_results(best = True)"
   ]
  },
  {
   "cell_type": "markdown",
   "id": "8706fe08",
   "metadata": {},
   "source": [
    "### <font color='navy'>  Analysis <font color='black'> "
   ]
  },
  {
   "cell_type": "markdown",
   "id": "8d043337",
   "metadata": {},
   "source": [
    "## Strategy Results\n",
    "Running possible combinations using Machine Learning, the best result was the combination of indicators:\n",
    "\n",
    "['Logistic', 'SVM']\n",
    "\n",
    "With a strategy value of: **959594.395839**\n",
    "The initial fund value was **$100,000**, indicating a loss of\n",
    "\n",
    "**-4.04%**\n",
    "\n",
    "Both logistic regression and SVM are supervised learning algorithms primarily used for classification tasks. These models are useful when predicting membership in a class or category, rather than predicting a continuous value such as the price of a stock.\n",
    "\n",
    "The best parameters we found for our stop loss and take profit were:\n",
    "\n",
    "Best parameters found: {'stop_loss_pct': 0.9209330707888167, 'take_profit_pct': 1.029364749288107, 'n_shares': 1}\n",
    "This indicates a risk ratio of 1.11 which is quite balanced."
   ]
  },
  {
   "cell_type": "markdown",
   "id": "0fd8caeb",
   "metadata": {},
   "source": [
    "## We encounter two main issues.\n",
    "1. Model limitations: Logistic regression and SVM models may not be the most suitable for predicting stock performance, as they are primarily designed for binary or multiclass classification problems. When applied to regression problems, such as predicting stock performance, they may not adequately capture the complexity of stock market behavior.\n",
    "\n",
    "2. Insufficient features: Logistic regression and SVM require significant and relevant features to make accurate predictions. If the features used to train the models do not adequately capture the variability and factors influencing stock performance, the models are likely to generate inaccurate predictions, leading to negative returns."
   ]
  },
  {
   "cell_type": "markdown",
   "id": "d70bd42f",
   "metadata": {},
   "source": [
    "# Passive Strategy vs Machine Learning Strategy\n"
   ]
  },
  {
   "cell_type": "code",
   "execution_count": null,
   "id": "86b88dba",
   "metadata": {},
   "outputs": [],
   "source": [
    "calcular_rendimiento_pasiva()"
   ]
  },
  {
   "cell_type": "markdown",
   "id": "0307782b",
   "metadata": {},
   "source": [
    "# Conclusions\n",
    "The limitations of logistic regression and SVM models lie in their inability to capture complex and non-linear relationships between input and output variables, as well as their sensitivity to the quality and quantity of training data, which can affect their ability to generalize adequately to new and unseen data.\n",
    "\n",
    "While it is possible to apply logistic regression and SVM models to predict the performance of stocks such as AAPL, it is important to consider the limitations and challenges associated with these models. Negative returns over time may be obtained due to the inherent complexity and volatility of the stock market, as well as the limitations of the models themselves.\n",
    "\n",
    "Although machine learning-based strategies may offer opportunities to enhance performance and optimize investment decision-making, the results of this comparison underscore the need for critical analysis and deep understanding of the market and the models used. It is essential to consider not only the potential for gains but also the ability to mitigate risks and adapt to market volatility. Combining passive and algorithmic approaches may offer a balance that leverages the strengths of each approach and leads to more consistent and satisfying long-term results.\n",
    "\n"
   ]
  },
  {
   "cell_type": "code",
   "execution_count": null,
   "id": "3128e7d5",
   "metadata": {},
   "outputs": [],
   "source": []
  }
 ],
 "metadata": {
  "kernelspec": {
   "display_name": "Python 3 (ipykernel)",
   "language": "python",
   "name": "python3"
  },
  "language_info": {
   "codemirror_mode": {
    "name": "ipython",
    "version": 3
   },
   "file_extension": ".py",
   "mimetype": "text/x-python",
   "name": "python",
   "nbconvert_exporter": "python",
   "pygments_lexer": "ipython3",
   "version": "3.11.4"
  }
 },
 "nbformat": 4,
 "nbformat_minor": 5
}
