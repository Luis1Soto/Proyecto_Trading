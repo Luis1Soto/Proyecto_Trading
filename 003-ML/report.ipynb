{
 "cells": [
  {
   "cell_type": "markdown",
   "id": "9db955ff",
   "metadata": {},
   "source": [
    "## 3rd Project | Machine Learning"
   ]
  },
  {
   "cell_type": "markdown",
   "id": "c52616de",
   "metadata": {},
   "source": [
    "###  Instructions\n",
    "\n",
    "* Follow a Python Project structure.\n",
    "* Work with a training and validation dataset to optimize & test your trading strategies using the datasets provided in the introduction section.\n",
    "* The **ML models** that we'll be using are **Logistic Regression, Support Vector Machine & XGBoost**.\n",
    "* Define the **independent** and **dependent** variables to train the models, remember that you can add any technical indicator to your dataset.\n",
    "* Split the `train` datasets into train/test.\n",
    "* Our dependent variable should be a category that we want to predict, i.e. \"Buy\" and \"Not buy\", or \"Sell\" and \"Not sell\" for the short models, we can construct it if the next k price is over / under a certain threshold.\n",
    "* For each model, fine tune all hyperparameters worth moving, then you can easily generate the True / False signals to backtest.\n",
    "* Be careful when selecting a metric to fine-tune.\n",
    "* For each dataset train/test pair (1d, 1h, 5m, 1m):\n",
    "\n",
    "    * Use the buy/sell signals from the predictions.\n",
    "    * Create all possible combinations of all machine learning models (2^n - 1, 7...).\n",
    "    * Backtest the strategies while keeping track of the operations and cash/portfolio value time series, remember that we'll be opening long & short positions.\n",
    "    * Optimize the backtest parameters (TPE, Grid Search, PSO, Genetic Algorithms, ...), stop-loss/take-profit, volume of the trade, maximizing the profit of the strategy with the training dataset, consider the bounds of each variable!\n",
    "    * Select the optimal strategy and describe it thoroughly (X, y variables used, a brief description of the ML models, results).\n",
    "    * Now, use the optimal strategy with the test dataset and compare it to a passive strategy."
   ]
  },
  {
   "cell_type": "markdown",
   "id": "0683c92e",
   "metadata": {},
   "source": [
    "-------"
   ]
  },
  {
   "cell_type": "code",
   "execution_count": 1,
   "id": "f373b7f4",
   "metadata": {
    "scrolled": false
   },
   "outputs": [],
   "source": [
    "from technical_analysis import Operation, TradingStrategy, MLModels"
   ]
  },
  {
   "cell_type": "code",
   "execution_count": 2,
   "id": "c4c07ee0",
   "metadata": {
    "scrolled": true
   },
   "outputs": [],
   "source": [
    "strategy = TradingStrategy('5m')"
   ]
  },
  {
   "cell_type": "code",
   "execution_count": 3,
   "id": "0b8dc3f7",
   "metadata": {},
   "outputs": [],
   "source": [
    "strategy.prepare_data_for_ml()"
   ]
  },
  {
   "cell_type": "code",
   "execution_count": 4,
   "id": "079139ca",
   "metadata": {},
   "outputs": [
    {
     "data": {
      "text/html": [
       "<div>\n",
       "<style scoped>\n",
       "    .dataframe tbody tr th:only-of-type {\n",
       "        vertical-align: middle;\n",
       "    }\n",
       "\n",
       "    .dataframe tbody tr th {\n",
       "        vertical-align: top;\n",
       "    }\n",
       "\n",
       "    .dataframe thead th {\n",
       "        text-align: right;\n",
       "    }\n",
       "</style>\n",
       "<table border=\"1\" class=\"dataframe\">\n",
       "  <thead>\n",
       "    <tr style=\"text-align: right;\">\n",
       "      <th></th>\n",
       "      <th>Pt-1</th>\n",
       "      <th>Pt-2</th>\n",
       "      <th>Pt-3</th>\n",
       "      <th>Volatility</th>\n",
       "      <th>Returns</th>\n",
       "      <th>Spread</th>\n",
       "      <th>Buy_Signal_xgb</th>\n",
       "      <th>Sell_Signal_xgb</th>\n",
       "    </tr>\n",
       "  </thead>\n",
       "  <tbody>\n",
       "    <tr>\n",
       "      <th>0</th>\n",
       "      <td>130.889999</td>\n",
       "      <td>130.509902</td>\n",
       "      <td>130.875000</td>\n",
       "      <td>0.003053</td>\n",
       "      <td>0.000350</td>\n",
       "      <td>0.270004</td>\n",
       "      <td>0</td>\n",
       "      <td>1</td>\n",
       "    </tr>\n",
       "    <tr>\n",
       "      <th>1</th>\n",
       "      <td>130.935806</td>\n",
       "      <td>130.889999</td>\n",
       "      <td>130.509902</td>\n",
       "      <td>0.002420</td>\n",
       "      <td>0.000900</td>\n",
       "      <td>0.360000</td>\n",
       "      <td>0</td>\n",
       "      <td>1</td>\n",
       "    </tr>\n",
       "    <tr>\n",
       "      <th>2</th>\n",
       "      <td>131.053604</td>\n",
       "      <td>130.935806</td>\n",
       "      <td>130.889999</td>\n",
       "      <td>0.002407</td>\n",
       "      <td>-0.002820</td>\n",
       "      <td>0.639999</td>\n",
       "      <td>1</td>\n",
       "      <td>0</td>\n",
       "    </tr>\n",
       "    <tr>\n",
       "      <th>3</th>\n",
       "      <td>130.684005</td>\n",
       "      <td>131.053604</td>\n",
       "      <td>130.935806</td>\n",
       "      <td>0.002677</td>\n",
       "      <td>0.003299</td>\n",
       "      <td>0.580002</td>\n",
       "      <td>0</td>\n",
       "      <td>1</td>\n",
       "    </tr>\n",
       "    <tr>\n",
       "      <th>4</th>\n",
       "      <td>131.115097</td>\n",
       "      <td>130.684005</td>\n",
       "      <td>131.053604</td>\n",
       "      <td>0.002249</td>\n",
       "      <td>-0.000535</td>\n",
       "      <td>0.279999</td>\n",
       "      <td>0</td>\n",
       "      <td>1</td>\n",
       "    </tr>\n",
       "    <tr>\n",
       "      <th>...</th>\n",
       "      <td>...</td>\n",
       "      <td>...</td>\n",
       "      <td>...</td>\n",
       "      <td>...</td>\n",
       "      <td>...</td>\n",
       "      <td>...</td>\n",
       "      <td>...</td>\n",
       "      <td>...</td>\n",
       "    </tr>\n",
       "    <tr>\n",
       "      <th>31307</th>\n",
       "      <td>164.869995</td>\n",
       "      <td>165.060104</td>\n",
       "      <td>165.029998</td>\n",
       "      <td>0.000849</td>\n",
       "      <td>0.000637</td>\n",
       "      <td>0.260010</td>\n",
       "      <td>0</td>\n",
       "      <td>1</td>\n",
       "    </tr>\n",
       "    <tr>\n",
       "      <th>31308</th>\n",
       "      <td>164.975006</td>\n",
       "      <td>164.869995</td>\n",
       "      <td>165.060104</td>\n",
       "      <td>0.000881</td>\n",
       "      <td>-0.000576</td>\n",
       "      <td>0.230011</td>\n",
       "      <td>0</td>\n",
       "      <td>1</td>\n",
       "    </tr>\n",
       "    <tr>\n",
       "      <th>31309</th>\n",
       "      <td>164.880004</td>\n",
       "      <td>164.975006</td>\n",
       "      <td>164.869995</td>\n",
       "      <td>0.001483</td>\n",
       "      <td>-0.003700</td>\n",
       "      <td>1.380004</td>\n",
       "      <td>0</td>\n",
       "      <td>1</td>\n",
       "    </tr>\n",
       "    <tr>\n",
       "      <th>31310</th>\n",
       "      <td>164.270004</td>\n",
       "      <td>164.880004</td>\n",
       "      <td>164.975006</td>\n",
       "      <td>0.001488</td>\n",
       "      <td>-0.000670</td>\n",
       "      <td>0.479004</td>\n",
       "      <td>1</td>\n",
       "      <td>0</td>\n",
       "    </tr>\n",
       "    <tr>\n",
       "      <th>31311</th>\n",
       "      <td>164.160003</td>\n",
       "      <td>164.270004</td>\n",
       "      <td>164.880004</td>\n",
       "      <td>0.001401</td>\n",
       "      <td>0.001340</td>\n",
       "      <td>0.519989</td>\n",
       "      <td>0</td>\n",
       "      <td>1</td>\n",
       "    </tr>\n",
       "  </tbody>\n",
       "</table>\n",
       "<p>31312 rows × 8 columns</p>\n",
       "</div>"
      ],
      "text/plain": [
       "             Pt-1        Pt-2        Pt-3  Volatility   Returns    Spread  \\\n",
       "0      130.889999  130.509902  130.875000    0.003053  0.000350  0.270004   \n",
       "1      130.935806  130.889999  130.509902    0.002420  0.000900  0.360000   \n",
       "2      131.053604  130.935806  130.889999    0.002407 -0.002820  0.639999   \n",
       "3      130.684005  131.053604  130.935806    0.002677  0.003299  0.580002   \n",
       "4      131.115097  130.684005  131.053604    0.002249 -0.000535  0.279999   \n",
       "...           ...         ...         ...         ...       ...       ...   \n",
       "31307  164.869995  165.060104  165.029998    0.000849  0.000637  0.260010   \n",
       "31308  164.975006  164.869995  165.060104    0.000881 -0.000576  0.230011   \n",
       "31309  164.880004  164.975006  164.869995    0.001483 -0.003700  1.380004   \n",
       "31310  164.270004  164.880004  164.975006    0.001488 -0.000670  0.479004   \n",
       "31311  164.160003  164.270004  164.880004    0.001401  0.001340  0.519989   \n",
       "\n",
       "       Buy_Signal_xgb  Sell_Signal_xgb  \n",
       "0                   0                1  \n",
       "1                   0                1  \n",
       "2                   1                0  \n",
       "3                   0                1  \n",
       "4                   0                1  \n",
       "...               ...              ...  \n",
       "31307               0                1  \n",
       "31308               0                1  \n",
       "31309               0                1  \n",
       "31310               1                0  \n",
       "31311               0                1  \n",
       "\n",
       "[31312 rows x 8 columns]"
      ]
     },
     "execution_count": 4,
     "metadata": {},
     "output_type": "execute_result"
    }
   ],
   "source": [
    "strategy.train_df"
   ]
  },
  {
   "cell_type": "code",
   "execution_count": 5,
   "id": "fa95fb47",
   "metadata": {},
   "outputs": [
    {
     "data": {
      "text/html": [
       "<div>\n",
       "<style scoped>\n",
       "    .dataframe tbody tr th:only-of-type {\n",
       "        vertical-align: middle;\n",
       "    }\n",
       "\n",
       "    .dataframe tbody tr th {\n",
       "        vertical-align: top;\n",
       "    }\n",
       "\n",
       "    .dataframe thead th {\n",
       "        text-align: right;\n",
       "    }\n",
       "</style>\n",
       "<table border=\"1\" class=\"dataframe\">\n",
       "  <thead>\n",
       "    <tr style=\"text-align: right;\">\n",
       "      <th></th>\n",
       "      <th>Pt-1</th>\n",
       "      <th>Pt-2</th>\n",
       "      <th>Pt-3</th>\n",
       "      <th>Volatility</th>\n",
       "      <th>Returns</th>\n",
       "      <th>Spread</th>\n",
       "      <th>Buy_Signal_xgb</th>\n",
       "      <th>Sell_Signal_xgb</th>\n",
       "    </tr>\n",
       "  </thead>\n",
       "  <tbody>\n",
       "    <tr>\n",
       "      <th>31312</th>\n",
       "      <td>164.380004</td>\n",
       "      <td>164.160003</td>\n",
       "      <td>164.270004</td>\n",
       "      <td>0.001426</td>\n",
       "      <td>0.000608</td>\n",
       "      <td>0.639893</td>\n",
       "      <td>0</td>\n",
       "      <td>1</td>\n",
       "    </tr>\n",
       "    <tr>\n",
       "      <th>31313</th>\n",
       "      <td>164.479995</td>\n",
       "      <td>164.380004</td>\n",
       "      <td>164.160003</td>\n",
       "      <td>0.001519</td>\n",
       "      <td>-0.002007</td>\n",
       "      <td>0.669998</td>\n",
       "      <td>0</td>\n",
       "      <td>1</td>\n",
       "    </tr>\n",
       "    <tr>\n",
       "      <th>31314</th>\n",
       "      <td>164.149902</td>\n",
       "      <td>164.479995</td>\n",
       "      <td>164.380004</td>\n",
       "      <td>0.001489</td>\n",
       "      <td>-0.001461</td>\n",
       "      <td>0.419998</td>\n",
       "      <td>1</td>\n",
       "      <td>0</td>\n",
       "    </tr>\n",
       "    <tr>\n",
       "      <th>31315</th>\n",
       "      <td>163.910003</td>\n",
       "      <td>164.149902</td>\n",
       "      <td>164.479995</td>\n",
       "      <td>0.001633</td>\n",
       "      <td>0.001556</td>\n",
       "      <td>0.470398</td>\n",
       "      <td>1</td>\n",
       "      <td>0</td>\n",
       "    </tr>\n",
       "    <tr>\n",
       "      <th>31316</th>\n",
       "      <td>164.164993</td>\n",
       "      <td>163.910003</td>\n",
       "      <td>164.149902</td>\n",
       "      <td>0.001711</td>\n",
       "      <td>-0.002223</td>\n",
       "      <td>0.429901</td>\n",
       "      <td>1</td>\n",
       "      <td>0</td>\n",
       "    </tr>\n",
       "    <tr>\n",
       "      <th>...</th>\n",
       "      <td>...</td>\n",
       "      <td>...</td>\n",
       "      <td>...</td>\n",
       "      <td>...</td>\n",
       "      <td>...</td>\n",
       "      <td>...</td>\n",
       "      <td>...</td>\n",
       "      <td>...</td>\n",
       "    </tr>\n",
       "    <tr>\n",
       "      <th>39135</th>\n",
       "      <td>128.244995</td>\n",
       "      <td>128.218902</td>\n",
       "      <td>128.316894</td>\n",
       "      <td>0.000853</td>\n",
       "      <td>-0.000624</td>\n",
       "      <td>0.220002</td>\n",
       "      <td>1</td>\n",
       "      <td>0</td>\n",
       "    </tr>\n",
       "    <tr>\n",
       "      <th>39136</th>\n",
       "      <td>128.164993</td>\n",
       "      <td>128.244995</td>\n",
       "      <td>128.218902</td>\n",
       "      <td>0.000664</td>\n",
       "      <td>0.000975</td>\n",
       "      <td>0.240005</td>\n",
       "      <td>1</td>\n",
       "      <td>0</td>\n",
       "    </tr>\n",
       "    <tr>\n",
       "      <th>39137</th>\n",
       "      <td>128.289993</td>\n",
       "      <td>128.164993</td>\n",
       "      <td>128.244995</td>\n",
       "      <td>0.000656</td>\n",
       "      <td>-0.000078</td>\n",
       "      <td>0.190003</td>\n",
       "      <td>1</td>\n",
       "      <td>0</td>\n",
       "    </tr>\n",
       "    <tr>\n",
       "      <th>39138</th>\n",
       "      <td>128.279998</td>\n",
       "      <td>128.289993</td>\n",
       "      <td>128.164993</td>\n",
       "      <td>0.001072</td>\n",
       "      <td>0.002806</td>\n",
       "      <td>0.485093</td>\n",
       "      <td>1</td>\n",
       "      <td>0</td>\n",
       "    </tr>\n",
       "    <tr>\n",
       "      <th>39139</th>\n",
       "      <td>128.639999</td>\n",
       "      <td>128.279998</td>\n",
       "      <td>128.289993</td>\n",
       "      <td>0.001012</td>\n",
       "      <td>0.000428</td>\n",
       "      <td>0.250000</td>\n",
       "      <td>1</td>\n",
       "      <td>0</td>\n",
       "    </tr>\n",
       "  </tbody>\n",
       "</table>\n",
       "<p>7828 rows × 8 columns</p>\n",
       "</div>"
      ],
      "text/plain": [
       "             Pt-1        Pt-2        Pt-3  Volatility   Returns    Spread  \\\n",
       "31312  164.380004  164.160003  164.270004    0.001426  0.000608  0.639893   \n",
       "31313  164.479995  164.380004  164.160003    0.001519 -0.002007  0.669998   \n",
       "31314  164.149902  164.479995  164.380004    0.001489 -0.001461  0.419998   \n",
       "31315  163.910003  164.149902  164.479995    0.001633  0.001556  0.470398   \n",
       "31316  164.164993  163.910003  164.149902    0.001711 -0.002223  0.429901   \n",
       "...           ...         ...         ...         ...       ...       ...   \n",
       "39135  128.244995  128.218902  128.316894    0.000853 -0.000624  0.220002   \n",
       "39136  128.164993  128.244995  128.218902    0.000664  0.000975  0.240005   \n",
       "39137  128.289993  128.164993  128.244995    0.000656 -0.000078  0.190003   \n",
       "39138  128.279998  128.289993  128.164993    0.001072  0.002806  0.485093   \n",
       "39139  128.639999  128.279998  128.289993    0.001012  0.000428  0.250000   \n",
       "\n",
       "       Buy_Signal_xgb  Sell_Signal_xgb  \n",
       "31312               0                1  \n",
       "31313               0                1  \n",
       "31314               1                0  \n",
       "31315               1                0  \n",
       "31316               1                0  \n",
       "...               ...              ...  \n",
       "39135               1                0  \n",
       "39136               1                0  \n",
       "39137               1                0  \n",
       "39138               1                0  \n",
       "39139               1                0  \n",
       "\n",
       "[7828 rows x 8 columns]"
      ]
     },
     "execution_count": 5,
     "metadata": {},
     "output_type": "execute_result"
    }
   ],
   "source": [
    "strategy.test_df"
   ]
  },
  {
   "cell_type": "code",
   "execution_count": 6,
   "id": "3c5ef279",
   "metadata": {},
   "outputs": [],
   "source": [
    "strategy.prepare_data_for_log_model()"
   ]
  },
  {
   "cell_type": "code",
   "execution_count": 7,
   "id": "bd90d0de",
   "metadata": {
    "scrolled": true
   },
   "outputs": [
    {
     "data": {
      "text/html": [
       "<div>\n",
       "<style scoped>\n",
       "    .dataframe tbody tr th:only-of-type {\n",
       "        vertical-align: middle;\n",
       "    }\n",
       "\n",
       "    .dataframe tbody tr th {\n",
       "        vertical-align: top;\n",
       "    }\n",
       "\n",
       "    .dataframe thead th {\n",
       "        text-align: right;\n",
       "    }\n",
       "</style>\n",
       "<table border=\"1\" class=\"dataframe\">\n",
       "  <thead>\n",
       "    <tr style=\"text-align: right;\">\n",
       "      <th></th>\n",
       "      <th>Returns</th>\n",
       "      <th>Volatility</th>\n",
       "      <th>Close_Trend</th>\n",
       "      <th>Volume_Trend</th>\n",
       "      <th>Spread</th>\n",
       "      <th>LR_Buy_Signal</th>\n",
       "      <th>LR_Sell_Signal</th>\n",
       "    </tr>\n",
       "  </thead>\n",
       "  <tbody>\n",
       "    <tr>\n",
       "      <th>0</th>\n",
       "      <td>0.000350</td>\n",
       "      <td>0.003053</td>\n",
       "      <td>-0.169407</td>\n",
       "      <td>-80017.878788</td>\n",
       "      <td>0.270004</td>\n",
       "      <td>0</td>\n",
       "      <td>1</td>\n",
       "    </tr>\n",
       "    <tr>\n",
       "      <th>1</th>\n",
       "      <td>0.000900</td>\n",
       "      <td>0.002420</td>\n",
       "      <td>-0.150417</td>\n",
       "      <td>-84001.569697</td>\n",
       "      <td>0.360000</td>\n",
       "      <td>0</td>\n",
       "      <td>1</td>\n",
       "    </tr>\n",
       "    <tr>\n",
       "      <th>2</th>\n",
       "      <td>-0.002820</td>\n",
       "      <td>0.002407</td>\n",
       "      <td>-0.130117</td>\n",
       "      <td>-61227.557576</td>\n",
       "      <td>0.639999</td>\n",
       "      <td>0</td>\n",
       "      <td>1</td>\n",
       "    </tr>\n",
       "    <tr>\n",
       "      <th>3</th>\n",
       "      <td>0.003299</td>\n",
       "      <td>0.002677</td>\n",
       "      <td>-0.056956</td>\n",
       "      <td>-86349.872727</td>\n",
       "      <td>0.580002</td>\n",
       "      <td>0</td>\n",
       "      <td>1</td>\n",
       "    </tr>\n",
       "    <tr>\n",
       "      <th>4</th>\n",
       "      <td>-0.000535</td>\n",
       "      <td>0.002249</td>\n",
       "      <td>-0.017863</td>\n",
       "      <td>-102522.878788</td>\n",
       "      <td>0.279999</td>\n",
       "      <td>0</td>\n",
       "      <td>1</td>\n",
       "    </tr>\n",
       "    <tr>\n",
       "      <th>...</th>\n",
       "      <td>...</td>\n",
       "      <td>...</td>\n",
       "      <td>...</td>\n",
       "      <td>...</td>\n",
       "      <td>...</td>\n",
       "      <td>...</td>\n",
       "      <td>...</td>\n",
       "    </tr>\n",
       "    <tr>\n",
       "      <th>29350</th>\n",
       "      <td>-0.000678</td>\n",
       "      <td>0.001662</td>\n",
       "      <td>-0.002851</td>\n",
       "      <td>13608.278788</td>\n",
       "      <td>0.289994</td>\n",
       "      <td>0</td>\n",
       "      <td>1</td>\n",
       "    </tr>\n",
       "    <tr>\n",
       "      <th>29351</th>\n",
       "      <td>0.000688</td>\n",
       "      <td>0.001567</td>\n",
       "      <td>-0.006465</td>\n",
       "      <td>5544.478788</td>\n",
       "      <td>0.245011</td>\n",
       "      <td>0</td>\n",
       "      <td>1</td>\n",
       "    </tr>\n",
       "    <tr>\n",
       "      <th>29352</th>\n",
       "      <td>-0.000072</td>\n",
       "      <td>0.001554</td>\n",
       "      <td>-0.006207</td>\n",
       "      <td>-1463.545455</td>\n",
       "      <td>0.229996</td>\n",
       "      <td>0</td>\n",
       "      <td>0</td>\n",
       "    </tr>\n",
       "    <tr>\n",
       "      <th>29353</th>\n",
       "      <td>0.001917</td>\n",
       "      <td>0.001665</td>\n",
       "      <td>0.008027</td>\n",
       "      <td>-2813.921212</td>\n",
       "      <td>0.361191</td>\n",
       "      <td>0</td>\n",
       "      <td>0</td>\n",
       "    </tr>\n",
       "    <tr>\n",
       "      <th>29354</th>\n",
       "      <td>0.000505</td>\n",
       "      <td>0.001588</td>\n",
       "      <td>0.038043</td>\n",
       "      <td>-1550.327273</td>\n",
       "      <td>0.149993</td>\n",
       "      <td>0</td>\n",
       "      <td>0</td>\n",
       "    </tr>\n",
       "  </tbody>\n",
       "</table>\n",
       "<p>29355 rows × 7 columns</p>\n",
       "</div>"
      ],
      "text/plain": [
       "        Returns  Volatility  Close_Trend   Volume_Trend    Spread  \\\n",
       "0      0.000350    0.003053    -0.169407  -80017.878788  0.270004   \n",
       "1      0.000900    0.002420    -0.150417  -84001.569697  0.360000   \n",
       "2     -0.002820    0.002407    -0.130117  -61227.557576  0.639999   \n",
       "3      0.003299    0.002677    -0.056956  -86349.872727  0.580002   \n",
       "4     -0.000535    0.002249    -0.017863 -102522.878788  0.279999   \n",
       "...         ...         ...          ...            ...       ...   \n",
       "29350 -0.000678    0.001662    -0.002851   13608.278788  0.289994   \n",
       "29351  0.000688    0.001567    -0.006465    5544.478788  0.245011   \n",
       "29352 -0.000072    0.001554    -0.006207   -1463.545455  0.229996   \n",
       "29353  0.001917    0.001665     0.008027   -2813.921212  0.361191   \n",
       "29354  0.000505    0.001588     0.038043   -1550.327273  0.149993   \n",
       "\n",
       "       LR_Buy_Signal  LR_Sell_Signal  \n",
       "0                  0               1  \n",
       "1                  0               1  \n",
       "2                  0               1  \n",
       "3                  0               1  \n",
       "4                  0               1  \n",
       "...              ...             ...  \n",
       "29350              0               1  \n",
       "29351              0               1  \n",
       "29352              0               0  \n",
       "29353              0               0  \n",
       "29354              0               0  \n",
       "\n",
       "[29355 rows x 7 columns]"
      ]
     },
     "execution_count": 7,
     "metadata": {},
     "output_type": "execute_result"
    }
   ],
   "source": [
    "strategy.vtrain_data"
   ]
  },
  {
   "cell_type": "code",
   "execution_count": null,
   "id": "ea3c8b56",
   "metadata": {
    "scrolled": false
   },
   "outputs": [
    {
     "name": "stderr",
     "output_type": "stream",
     "text": [
      "[I 2024-03-10 17:37:19,296] A new study created in memory with name: no-name-1d4b1dfc-34bb-4b73-8a9a-772d5af235b5\n",
      "[I 2024-03-10 17:37:56,737] Trial 0 finished with value: 0.291354663036079 and parameters: {'C': 1.2334200960677577, 'l1_ratio': 0.5700202031347303, 'fit_intercept': True}. Best is trial 0 with value: 0.291354663036079.\n",
      "[I 2024-03-10 17:38:42,944] A new study created in memory with name: no-name-b39e53d1-0508-4174-bd33-053e9b0131af\n"
     ]
    },
    {
     "name": "stdout",
     "output_type": "stream",
     "text": [
      "Index(['Unnamed: 0', 'Timestamp', 'Gmtoffset', 'Datetime', 'Open', 'High',\n",
      "       'Low', 'Close', 'Volume', 'Returns', 'Volatility', 'Close_Trend',\n",
      "       'Volume_Trend', 'Spread', 'Future_Return_Avg_5', 'LR_Buy_Signal',\n",
      "       'LR_Sell_Signal', 'Pt-1', 'Pt-2', 'Pt-3', 'Future_Price',\n",
      "       'Buy_Signal_xgb', 'Sell_Signal_xgb', 'Logistic_Buy_Signal'],\n",
      "      dtype='object')\n"
     ]
    },
    {
     "name": "stderr",
     "output_type": "stream",
     "text": [
      "[I 2024-03-10 17:39:23,538] Trial 0 finished with value: 0.2985678180286437 and parameters: {'C': 46703.08358154339, 'l1_ratio': 0.8241602148939215, 'fit_intercept': False}. Best is trial 0 with value: 0.2985678180286437.\n",
      "[I 2024-03-10 17:40:09,893] A new study created in memory with name: no-name-22ff584b-02a1-450a-95a0-d000e9614eae\n",
      "[I 2024-03-10 17:40:10,089] Trial 0 finished with value: 0.612157283637428 and parameters: {'booster': 'gbtree', 'n_estimators': 196, 'learning_rate': 0.034109443510433095, 'reg_alpha': 4.270635517081217, 'reg_lambda': 3.8341558257946753, 'max_depth': 16, 'max_leaves': 56, 'gamma': 4.9650434394790635}. Best is trial 0 with value: 0.612157283637428.\n"
     ]
    },
    {
     "name": "stdout",
     "output_type": "stream",
     "text": [
      "Index(['Unnamed: 0', 'Timestamp', 'Gmtoffset', 'Datetime', 'Open', 'High',\n",
      "       'Low', 'Close', 'Volume', 'Returns', 'Volatility', 'Close_Trend',\n",
      "       'Volume_Trend', 'Spread', 'Future_Return_Avg_5', 'LR_Buy_Signal',\n",
      "       'LR_Sell_Signal', 'Pt-1', 'Pt-2', 'Pt-3', 'Future_Price',\n",
      "       'Buy_Signal_xgb', 'Sell_Signal_xgb', 'Logistic_Buy_Signal',\n",
      "       'Logistic_Sell_Signal'],\n",
      "      dtype='object')\n"
     ]
    },
    {
     "name": "stderr",
     "output_type": "stream",
     "text": [
      "[I 2024-03-10 17:40:10,270] A new study created in memory with name: no-name-66259060-3edc-43df-bf7a-a81779a25535\n"
     ]
    },
    {
     "name": "stdout",
     "output_type": "stream",
     "text": [
      "Index(['Unnamed: 0', 'Timestamp', 'Gmtoffset', 'Datetime', 'Open', 'High',\n",
      "       'Low', 'Close', 'Volume', 'Returns', 'Volatility', 'Close_Trend',\n",
      "       'Volume_Trend', 'Spread', 'Future_Return_Avg_5', 'LR_Buy_Signal',\n",
      "       'LR_Sell_Signal', 'Pt-1', 'Pt-2', 'Pt-3', 'Future_Price',\n",
      "       'Buy_Signal_xgb', 'Sell_Signal_xgb', 'Logistic_Buy_Signal',\n",
      "       'Logistic_Sell_Signal', 'XGBoost_buy_signal'],\n",
      "      dtype='object')\n"
     ]
    },
    {
     "name": "stderr",
     "output_type": "stream",
     "text": [
      "[I 2024-03-10 17:40:10,554] Trial 0 finished with value: 0.0 and parameters: {'booster': 'gblinear', 'n_estimators': 174, 'learning_rate': 0.20668690720697772, 'reg_alpha': 2.8928843182863777, 'reg_lambda': 0.8315565170304939}. Best is trial 0 with value: 0.0.\n",
      "[I 2024-03-10 17:40:10,833] A new study created in memory with name: no-name-f6771c9f-6a2b-4664-bdc3-397d2ffb75be\n"
     ]
    },
    {
     "name": "stdout",
     "output_type": "stream",
     "text": [
      "Index(['Unnamed: 0', 'Timestamp', 'Gmtoffset', 'Datetime', 'Open', 'High',\n",
      "       'Low', 'Close', 'Volume', 'Returns', 'Volatility', 'Close_Trend',\n",
      "       'Volume_Trend', 'Spread', 'Future_Return_Avg_5', 'LR_Buy_Signal',\n",
      "       'LR_Sell_Signal', 'Pt-1', 'Pt-2', 'Pt-3', 'Future_Price',\n",
      "       'Buy_Signal_xgb', 'Sell_Signal_xgb', 'Logistic_Buy_Signal',\n",
      "       'Logistic_Sell_Signal', 'XGBoost_buy_signal', 'XGBoost_sell_signal'],\n",
      "      dtype='object')\n"
     ]
    },
    {
     "name": "stderr",
     "output_type": "stream",
     "text": [
      "[I 2024-03-10 17:40:51,399] Trial 0 finished with value: 0.6725453620484992 and parameters: {'C': 0.06291943569225293, 'kernel': 'poly', 'gamma': 2.5839694936740156e-05}. Best is trial 0 with value: 0.6725453620484992.\n",
      "[I 2024-03-10 17:41:59,184] A new study created in memory with name: no-name-64fbd10d-ff5f-4459-8701-e2dbabfba5c6\n"
     ]
    },
    {
     "name": "stdout",
     "output_type": "stream",
     "text": [
      "Index(['Unnamed: 0', 'Timestamp', 'Gmtoffset', 'Datetime', 'Open', 'High',\n",
      "       'Low', 'Close', 'Volume', 'Returns', 'Volatility', 'Close_Trend',\n",
      "       'Volume_Trend', 'Spread', 'Future_Return_Avg_5', 'LR_Buy_Signal',\n",
      "       'LR_Sell_Signal', 'Pt-1', 'Pt-2', 'Pt-3', 'Future_Price',\n",
      "       'Buy_Signal_xgb', 'Sell_Signal_xgb', 'Logistic_Buy_Signal',\n",
      "       'Logistic_Sell_Signal', 'XGBoost_buy_signal', 'XGBoost_sell_signal',\n",
      "       'SVM_buy_signal'],\n",
      "      dtype='object')\n"
     ]
    }
   ],
   "source": [
    "strategy.optimize_and_fit_models()"
   ]
  },
  {
   "cell_type": "code",
   "execution_count": null,
   "id": "88eb0b77",
   "metadata": {},
   "outputs": [],
   "source": [
    "strategy.data.columns"
   ]
  },
  {
   "cell_type": "code",
   "execution_count": null,
   "id": "563ca5bc",
   "metadata": {},
   "outputs": [],
   "source": [
    "strategy.run_combinations()"
   ]
  },
  {
   "cell_type": "code",
   "execution_count": null,
   "id": "6569b97a",
   "metadata": {},
   "outputs": [],
   "source": [
    "strategy.plot_results(best = True)"
   ]
  },
  {
   "cell_type": "markdown",
   "id": "29fe4485",
   "metadata": {},
   "source": [
    "---"
   ]
  },
  {
   "cell_type": "markdown",
   "id": "949b81dd",
   "metadata": {},
   "source": [
    "## <font color='navy'>  Order 1 <font color='black'> \n",
    "\n",
    "In this section, we'll demonstrate a practical example using a 5-minute time frame. Here's how we'll proceed:\n",
    "    \n",
    "* Initialize by declaring the chosen time frame.\n",
    "* Test all combinations.\n",
    "* Plot the result of the best one.\n",
    "* Optimize the parameters of the best indicators, as well as the take_profit, stop_loss, and number of shares.\n",
    "* Plot the results of the best optimized combination.\n",
    "* Plot the best optimized combination on test data with the same time frame."
   ]
  },
  {
   "cell_type": "markdown",
   "id": "f70275a8",
   "metadata": {},
   "source": [
    "### <font color='navy'>  Run all combinations <font color='black'> "
   ]
  },
  {
   "cell_type": "code",
   "execution_count": null,
   "id": "14bbec16",
   "metadata": {
    "scrolled": false
   },
   "outputs": [],
   "source": [
    "from technical_analysis import Operation, TradingStrategy\n",
    "strategy = TradingStrategy('5m')\n",
    "strategy.run_combinations()"
   ]
  },
  {
   "cell_type": "markdown",
   "id": "a0b0f72d",
   "metadata": {},
   "source": [
    "For this timeframe, the best combination is: 'SAR' and 'ADX'. "
   ]
  },
  {
   "cell_type": "markdown",
   "id": "e1b7ddb2",
   "metadata": {},
   "source": [
    "### <font color='navy'>  Backtesting of the best combination <font color='black'> "
   ]
  },
  {
   "cell_type": "markdown",
   "id": "c13a2474",
   "metadata": {},
   "source": [
    "Here we test a trading strategy on historical data to determine its potential for future success. It allows traders to simulate a strategy's performance without risking actual capital, providing insights into the strategy's risk and profitability before live implementation."
   ]
  },
  {
   "cell_type": "code",
   "execution_count": null,
   "id": "7dce3780",
   "metadata": {
    "scrolled": false
   },
   "outputs": [],
   "source": [
    "strategy.plot_results(best = True)"
   ]
  },
  {
   "cell_type": "markdown",
   "id": "42b2e0e7",
   "metadata": {},
   "source": [
    "### <font color='navy'>  Best model without optimization on test <font color='black'> "
   ]
  },
  {
   "cell_type": "code",
   "execution_count": null,
   "id": "dceefef6",
   "metadata": {},
   "outputs": [],
   "source": [
    "strategy.test()"
   ]
  },
  {
   "cell_type": "code",
   "execution_count": null,
   "id": "af95dcbd",
   "metadata": {
    "scrolled": true
   },
   "outputs": [],
   "source": [
    "strategy.strategy_value[-1]"
   ]
  },
  {
   "cell_type": "markdown",
   "id": "81dbb96a",
   "metadata": {},
   "source": [
    "### <font color='navy'>  Parameters Optimization <font color='black'> "
   ]
  },
  {
   "cell_type": "code",
   "execution_count": null,
   "id": "771cafe4",
   "metadata": {},
   "outputs": [],
   "source": [
    "strategy.optimize_parameters()"
   ]
  },
  {
   "cell_type": "markdown",
   "id": "8706fe08",
   "metadata": {},
   "source": [
    "### <font color='navy'>  Strategy backtest with optimized paramters <font color='black'> "
   ]
  },
  {
   "cell_type": "code",
   "execution_count": null,
   "id": "eb1b12ef",
   "metadata": {},
   "outputs": [],
   "source": [
    "strategy.plot_results(best = True)"
   ]
  },
  {
   "cell_type": "markdown",
   "id": "ce425221",
   "metadata": {},
   "source": [
    "### <font color='navy'>  Best optimized strategy | Final value <font color='black'> "
   ]
  },
  {
   "cell_type": "code",
   "execution_count": null,
   "id": "95de0bcd",
   "metadata": {},
   "outputs": [],
   "source": [
    "strategy.strategy_value[-1]"
   ]
  },
  {
   "cell_type": "markdown",
   "id": "12de4725",
   "metadata": {},
   "source": [
    "### <font color='navy'>  Run and backtest best strategy | Test data <font color='black'> "
   ]
  },
  {
   "cell_type": "code",
   "execution_count": null,
   "id": "f7a3d024",
   "metadata": {
    "scrolled": true
   },
   "outputs": [],
   "source": [
    "strategy.test()"
   ]
  },
  {
   "cell_type": "markdown",
   "id": "5669d52d",
   "metadata": {},
   "source": [
    "### <font color='navy'>  Test final value <font color='black'>"
   ]
  },
  {
   "cell_type": "code",
   "execution_count": null,
   "id": "89f7d528",
   "metadata": {},
   "outputs": [],
   "source": [
    "strategy.strategy_value[-1]"
   ]
  },
  {
   "cell_type": "markdown",
   "id": "c2836f4a",
   "metadata": {},
   "source": [
    "In the first chart, \"Best model without optimization on test,\" we see the strategy's value over a series of trades without any parameter tuning. The performance appears relatively stable, hovering around the initial strategy value, with no significant growth over the number of trades executed. This suggests that while the strategy may be consistent, it lacks the efficacy to generate substantial returns as is.\n",
    "\n",
    "Contrastingly, the second chart, \"Strategy backtest with optimized parameters,\" displays the strategy's performance after optimization. There is a noticeable difference in the strategy value, which shows greater variability and peaks that exceed the initial value by a more significant margin. This implies that the optimization process has potentially enhanced the strategy's ability to capitalize on profitable opportunities in the market.\n",
    "\n",
    "The comparison between the two suggests that optimization can have a marked impact on a trading strategy's success, enhancing its ability to generate returns. However, the increased variability also hints at potentially higher risk, which underscores the importance of risk management in trading strategy development. The results also serve as a reminder that past performance is not indicative of future results, and even an optimized strategy should be approached with caution and monitored closely."
   ]
  },
  {
   "cell_type": "markdown",
   "id": "6c956d44",
   "metadata": {},
   "source": [
    "## Pasive Strategy\n",
    "Passive investing is an investment strategy to maximize returns by minimizing buying and selling."
   ]
  },
  {
   "cell_type": "code",
   "execution_count": null,
   "id": "11abdfff",
   "metadata": {},
   "outputs": [],
   "source": [
    "# Convert the 'Date' column to datetime type\n",
    "data['Date'] = pd.to_datetime(data['Date'])\n",
    "\n",
    "# Get the closing price of the first and last data\n",
    "first_close = data.iloc[0]['Close']\n",
    "last_close = data.iloc[-1]['Close']\n",
    "\n",
    "# Calculate the passive asset return\n",
    "passive_return = (last_close - first_close) / first_close\n",
    "\n",
    "print(\"The passive asset return from the first close to the last close is: {:.2%}\".format(passive_return))\n",
    "\n",
    "# Comparison with the strategy used\n",
    "cash = 1000000\n",
    "cash_final = 1107153.05\n",
    "strategy_return = (cash_final - cash) / cash\n",
    "print(\"The strategy return from the first close to the last close is: {:.2%}\".format(strategy_return))\n",
    "\n",
    "# Sort the data by date if they are not sorted\n",
    "data = data.sort_values(by='Date')\n",
    "plt.figure(figsize=(12, 8))\n",
    "plt.plot(data['Date'], data['Close'], label='Closing Price', color='blue')\n",
    "plt.title('Closing Price of the Asset')\n",
    "plt.xlabel('Date')\n",
    "plt.ylabel('Closing Price')\n",
    "plt.legend()\n",
    "plt.grid(True)\n",
    "plt.show()\n",
    "\n",
    "# Calculate the cumulative return\n",
    "data['Returns'] = data['Close'].pct_change().fillna(0)\n",
    "\n",
    "# Calculate the cumulative value\n",
    "initial_investment = cash\n",
    "data['Investment_Value'] = (1 + data['Returns']).cumprod() * initial_investment\n",
    "plt.figure(figsize=(12, 8))\n",
    "plt.plot(data['Date'], data['Investment_Value'], label='Investment Value', color='green')\n",
    "plt.title('Investment Return')\n",
    "plt.xlabel('Date')\n",
    "plt.ylabel('Investment Value')\n",
    "plt.legend()\n",
    "plt.grid(True)\n",
    "plt.show()\n",
    "\n",
    "final_value = data['Investment_Value'].iloc[-1]\n",
    "print(\"The final value of the passive investment: ${:,.2f}\".format(final_value))\n"
   ]
  },
  {
   "cell_type": "markdown",
   "id": "4db786d8",
   "metadata": {},
   "source": [
    "The passive asset, represented by the underlying security, demonstrated a substantial return of 18.54% from the initial to the final closing prices, indicating favorable market conditions over the observed period. On the other hand, the implemented strategy yielded a lower return of 10.72%, suggesting that while it still produced positive results, it underperformed compared to simply holding the asset passively. This observation prompts a critical examination of the strategy's effectiveness and highlights the importance of continuously evaluating and adjusting investment strategies to optimize returns in evolving market environments."
   ]
  },
  {
   "cell_type": "code",
   "execution_count": null,
   "id": "09aaf981",
   "metadata": {},
   "outputs": [],
   "source": []
  }
 ],
 "metadata": {
  "kernelspec": {
   "display_name": "Python 3 (ipykernel)",
   "language": "python",
   "name": "python3"
  },
  "language_info": {
   "codemirror_mode": {
    "name": "ipython",
    "version": 3
   },
   "file_extension": ".py",
   "mimetype": "text/x-python",
   "name": "python",
   "nbconvert_exporter": "python",
   "pygments_lexer": "ipython3",
   "version": "3.9.12"
  }
 },
 "nbformat": 4,
 "nbformat_minor": 5
}
