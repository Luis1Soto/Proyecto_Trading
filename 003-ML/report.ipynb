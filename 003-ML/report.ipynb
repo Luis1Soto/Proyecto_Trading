{
 "cells": [
  {
   "cell_type": "markdown",
   "id": "9db955ff",
   "metadata": {},
   "source": [
    "## 3rd Project | Machine Learning"
   ]
  },
  {
   "cell_type": "markdown",
   "id": "c52616de",
   "metadata": {},
   "source": [
    "###  Instructions\n",
    "\n",
    "* Follow a Python Project structure.\n",
    "* Work with a training and validation dataset to optimize & test your trading strategies using the datasets provided in the introduction section.\n",
    "* The **ML models** that we'll be using are **Logistic Regression, Support Vector Machine & XGBoost**.\n",
    "* Define the **independent** and **dependent** variables to train the models, remember that you can add any technical indicator to your dataset.\n",
    "* Split the `train` datasets into train/test.\n",
    "* Our dependent variable should be a category that we want to predict, i.e. \"Buy\" and \"Not buy\", or \"Sell\" and \"Not sell\" for the short models, we can construct it if the next k price is over / under a certain threshold.\n",
    "* For each model, fine tune all hyperparameters worth moving, then you can easily generate the True / False signals to backtest.\n",
    "* Be careful when selecting a metric to fine-tune.\n",
    "* For each dataset train/test pair (1d, 1h, 5m, 1m):\n",
    "\n",
    "    * Use the buy/sell signals from the predictions.\n",
    "    * Create all possible combinations of all machine learning models (2^n - 1, 7...).\n",
    "    * Backtest the strategies while keeping track of the operations and cash/portfolio value time series, remember that we'll be opening long & short positions.\n",
    "    * Optimize the backtest parameters (TPE, Grid Search, PSO, Genetic Algorithms, ...), stop-loss/take-profit, volume of the trade, maximizing the profit of the strategy with the training dataset, consider the bounds of each variable!\n",
    "    * Select the optimal strategy and describe it thoroughly (X, y variables used, a brief description of the ML models, results).\n",
    "    * Now, use the optimal strategy with the test dataset and compare it to a passive strategy."
   ]
  },
  {
   "cell_type": "markdown",
   "id": "0683c92e",
   "metadata": {},
   "source": [
    "-------"
   ]
  },
  {
   "cell_type": "code",
   "execution_count": 1,
   "id": "f373b7f4",
   "metadata": {
    "scrolled": false
   },
   "outputs": [],
   "source": [
    "from technical_analysis import Operation, TradingStrategy, MLModels"
   ]
  },
  {
   "cell_type": "code",
   "execution_count": 2,
   "id": "c4c07ee0",
   "metadata": {
    "scrolled": true
   },
   "outputs": [],
   "source": [
    "strategy = TradingStrategy('5m')"
   ]
  },
  {
   "cell_type": "code",
   "execution_count": 3,
   "id": "0b8dc3f7",
   "metadata": {},
   "outputs": [
    {
     "ename": "KeyError",
     "evalue": "'Buy_Signal_svm'",
     "output_type": "error",
     "traceback": [
      "\u001b[0;31m---------------------------------------------------------------------------\u001b[0m",
      "\u001b[0;31mKeyError\u001b[0m                                  Traceback (most recent call last)",
      "File \u001b[0;32m~/Desktop/anaconda3/lib/python3.11/site-packages/pandas/core/indexes/base.py:3791\u001b[0m, in \u001b[0;36mIndex.get_loc\u001b[0;34m(self, key)\u001b[0m\n\u001b[1;32m   3790\u001b[0m \u001b[38;5;28;01mtry\u001b[39;00m:\n\u001b[0;32m-> 3791\u001b[0m     \u001b[38;5;28;01mreturn\u001b[39;00m \u001b[38;5;28mself\u001b[39m\u001b[38;5;241m.\u001b[39m_engine\u001b[38;5;241m.\u001b[39mget_loc(casted_key)\n\u001b[1;32m   3792\u001b[0m \u001b[38;5;28;01mexcept\u001b[39;00m \u001b[38;5;167;01mKeyError\u001b[39;00m \u001b[38;5;28;01mas\u001b[39;00m err:\n",
      "File \u001b[0;32mindex.pyx:152\u001b[0m, in \u001b[0;36mpandas._libs.index.IndexEngine.get_loc\u001b[0;34m()\u001b[0m\n",
      "File \u001b[0;32mindex.pyx:181\u001b[0m, in \u001b[0;36mpandas._libs.index.IndexEngine.get_loc\u001b[0;34m()\u001b[0m\n",
      "File \u001b[0;32mpandas/_libs/hashtable_class_helper.pxi:7080\u001b[0m, in \u001b[0;36mpandas._libs.hashtable.PyObjectHashTable.get_item\u001b[0;34m()\u001b[0m\n",
      "File \u001b[0;32mpandas/_libs/hashtable_class_helper.pxi:7088\u001b[0m, in \u001b[0;36mpandas._libs.hashtable.PyObjectHashTable.get_item\u001b[0;34m()\u001b[0m\n",
      "\u001b[0;31mKeyError\u001b[0m: 'Buy_Signal_svm'",
      "\nThe above exception was the direct cause of the following exception:\n",
      "\u001b[0;31mKeyError\u001b[0m                                  Traceback (most recent call last)",
      "Cell \u001b[0;32mIn[3], line 1\u001b[0m\n\u001b[0;32m----> 1\u001b[0m strategy\u001b[38;5;241m.\u001b[39mprepare_data_for_ml()\n",
      "File \u001b[0;32m~/Documents/GitHub/Proyecto_Trading/003-ML/technical_analysis.py:122\u001b[0m, in \u001b[0;36mTradingStrategy.prepare_data_for_ml\u001b[0;34m(self, train_size)\u001b[0m\n\u001b[1;32m    120\u001b[0m \u001b[38;5;28mself\u001b[39m\u001b[38;5;241m.\u001b[39mtrain_df \u001b[38;5;241m=\u001b[39m \u001b[38;5;28mself\u001b[39m\u001b[38;5;241m.\u001b[39mX\u001b[38;5;241m.\u001b[39miloc[:cutoff]\n\u001b[1;32m    121\u001b[0m \u001b[38;5;28mself\u001b[39m\u001b[38;5;241m.\u001b[39mX_train_svm \u001b[38;5;241m=\u001b[39m \u001b[38;5;28mself\u001b[39m\u001b[38;5;241m.\u001b[39mtrain_df\u001b[38;5;241m.\u001b[39mdrop([\u001b[38;5;124m'\u001b[39m\u001b[38;5;124mBuy_Signal_svm\u001b[39m\u001b[38;5;124m'\u001b[39m, \u001b[38;5;124m'\u001b[39m\u001b[38;5;124mSell_Signal_svm\u001b[39m\u001b[38;5;124m'\u001b[39m], errors \u001b[38;5;241m=\u001b[39m \u001b[38;5;124m'\u001b[39m\u001b[38;5;124mignore\u001b[39m\u001b[38;5;124m'\u001b[39m, axis \u001b[38;5;241m=\u001b[39m \u001b[38;5;241m1\u001b[39m)\n\u001b[0;32m--> 122\u001b[0m \u001b[38;5;28mself\u001b[39m\u001b[38;5;241m.\u001b[39mY_train_svm_buy \u001b[38;5;241m=\u001b[39m \u001b[38;5;28mself\u001b[39m\u001b[38;5;241m.\u001b[39mtrain_df[\u001b[38;5;124m'\u001b[39m\u001b[38;5;124mBuy_Signal_svm\u001b[39m\u001b[38;5;124m'\u001b[39m]\n\u001b[1;32m    123\u001b[0m \u001b[38;5;28mself\u001b[39m\u001b[38;5;241m.\u001b[39mY_train_svm_sell \u001b[38;5;241m=\u001b[39m \u001b[38;5;28mself\u001b[39m\u001b[38;5;241m.\u001b[39mtrain_df[\u001b[38;5;124m'\u001b[39m\u001b[38;5;124mSell_Signal_svm\u001b[39m\u001b[38;5;124m'\u001b[39m]\n\u001b[1;32m    125\u001b[0m \u001b[38;5;66;03m# Create a single DataFrame for the test set including both features and targets\u001b[39;00m\n",
      "File \u001b[0;32m~/Desktop/anaconda3/lib/python3.11/site-packages/pandas/core/frame.py:3893\u001b[0m, in \u001b[0;36mDataFrame.__getitem__\u001b[0;34m(self, key)\u001b[0m\n\u001b[1;32m   3891\u001b[0m \u001b[38;5;28;01mif\u001b[39;00m \u001b[38;5;28mself\u001b[39m\u001b[38;5;241m.\u001b[39mcolumns\u001b[38;5;241m.\u001b[39mnlevels \u001b[38;5;241m>\u001b[39m \u001b[38;5;241m1\u001b[39m:\n\u001b[1;32m   3892\u001b[0m     \u001b[38;5;28;01mreturn\u001b[39;00m \u001b[38;5;28mself\u001b[39m\u001b[38;5;241m.\u001b[39m_getitem_multilevel(key)\n\u001b[0;32m-> 3893\u001b[0m indexer \u001b[38;5;241m=\u001b[39m \u001b[38;5;28mself\u001b[39m\u001b[38;5;241m.\u001b[39mcolumns\u001b[38;5;241m.\u001b[39mget_loc(key)\n\u001b[1;32m   3894\u001b[0m \u001b[38;5;28;01mif\u001b[39;00m is_integer(indexer):\n\u001b[1;32m   3895\u001b[0m     indexer \u001b[38;5;241m=\u001b[39m [indexer]\n",
      "File \u001b[0;32m~/Desktop/anaconda3/lib/python3.11/site-packages/pandas/core/indexes/base.py:3798\u001b[0m, in \u001b[0;36mIndex.get_loc\u001b[0;34m(self, key)\u001b[0m\n\u001b[1;32m   3793\u001b[0m     \u001b[38;5;28;01mif\u001b[39;00m \u001b[38;5;28misinstance\u001b[39m(casted_key, \u001b[38;5;28mslice\u001b[39m) \u001b[38;5;129;01mor\u001b[39;00m (\n\u001b[1;32m   3794\u001b[0m         \u001b[38;5;28misinstance\u001b[39m(casted_key, abc\u001b[38;5;241m.\u001b[39mIterable)\n\u001b[1;32m   3795\u001b[0m         \u001b[38;5;129;01mand\u001b[39;00m \u001b[38;5;28many\u001b[39m(\u001b[38;5;28misinstance\u001b[39m(x, \u001b[38;5;28mslice\u001b[39m) \u001b[38;5;28;01mfor\u001b[39;00m x \u001b[38;5;129;01min\u001b[39;00m casted_key)\n\u001b[1;32m   3796\u001b[0m     ):\n\u001b[1;32m   3797\u001b[0m         \u001b[38;5;28;01mraise\u001b[39;00m InvalidIndexError(key)\n\u001b[0;32m-> 3798\u001b[0m     \u001b[38;5;28;01mraise\u001b[39;00m \u001b[38;5;167;01mKeyError\u001b[39;00m(key) \u001b[38;5;28;01mfrom\u001b[39;00m \u001b[38;5;21;01merr\u001b[39;00m\n\u001b[1;32m   3799\u001b[0m \u001b[38;5;28;01mexcept\u001b[39;00m \u001b[38;5;167;01mTypeError\u001b[39;00m:\n\u001b[1;32m   3800\u001b[0m     \u001b[38;5;66;03m# If we have a listlike key, _check_indexing_error will raise\u001b[39;00m\n\u001b[1;32m   3801\u001b[0m     \u001b[38;5;66;03m#  InvalidIndexError. Otherwise we fall through and re-raise\u001b[39;00m\n\u001b[1;32m   3802\u001b[0m     \u001b[38;5;66;03m#  the TypeError.\u001b[39;00m\n\u001b[1;32m   3803\u001b[0m     \u001b[38;5;28mself\u001b[39m\u001b[38;5;241m.\u001b[39m_check_indexing_error(key)\n",
      "\u001b[0;31mKeyError\u001b[0m: 'Buy_Signal_svm'"
     ]
    }
   ],
   "source": [
    "strategy.prepare_data_for_ml()"
   ]
  },
  {
   "cell_type": "code",
   "execution_count": null,
   "id": "079139ca",
   "metadata": {},
   "outputs": [],
   "source": [
    "strategy.train_df"
   ]
  },
  {
   "cell_type": "code",
   "execution_count": null,
   "id": "fa95fb47",
   "metadata": {},
   "outputs": [],
   "source": [
    "strategy.test_df"
   ]
  },
  {
   "cell_type": "code",
   "execution_count": null,
   "id": "3c5ef279",
   "metadata": {},
   "outputs": [],
   "source": [
    "strategy.prepare_data_for_log_model()"
   ]
  },
  {
   "cell_type": "code",
   "execution_count": null,
   "id": "bd90d0de",
   "metadata": {
    "scrolled": true
   },
   "outputs": [],
   "source": [
    "strategy.vtrain_data"
   ]
  },
  {
   "cell_type": "code",
   "execution_count": null,
   "id": "ea3c8b56",
   "metadata": {},
   "outputs": [],
   "source": [
    "strategy.optimize_and_fit_models()"
   ]
  },
  {
   "cell_type": "code",
   "execution_count": null,
   "id": "88eb0b77",
   "metadata": {},
   "outputs": [],
   "source": [
    "strategy.data.columns"
   ]
  },
  {
   "cell_type": "code",
   "execution_count": null,
   "id": "563ca5bc",
   "metadata": {},
   "outputs": [],
   "source": []
  },
  {
   "cell_type": "markdown",
   "id": "29fe4485",
   "metadata": {},
   "source": [
    "---"
   ]
  },
  {
   "cell_type": "markdown",
   "id": "949b81dd",
   "metadata": {},
   "source": [
    "## <font color='navy'>  Order 1 <font color='black'> \n",
    "\n",
    "In this section, we'll demonstrate a practical example using a 5-minute time frame. Here's how we'll proceed:\n",
    "    \n",
    "* Initialize by declaring the chosen time frame.\n",
    "* Test all combinations.\n",
    "* Plot the result of the best one.\n",
    "* Optimize the parameters of the best indicators, as well as the take_profit, stop_loss, and number of shares.\n",
    "* Plot the results of the best optimized combination.\n",
    "* Plot the best optimized combination on test data with the same time frame."
   ]
  },
  {
   "cell_type": "markdown",
   "id": "f70275a8",
   "metadata": {},
   "source": [
    "### <font color='navy'>  Run all combinations <font color='black'> "
   ]
  },
  {
   "cell_type": "code",
   "execution_count": null,
   "id": "14bbec16",
   "metadata": {
    "scrolled": false
   },
   "outputs": [],
   "source": [
    "from technical_analysis import Operation, TradingStrategy\n",
    "strategy = TradingStrategy('5m')\n",
    "strategy.run_combinations()"
   ]
  },
  {
   "cell_type": "markdown",
   "id": "a0b0f72d",
   "metadata": {},
   "source": [
    "For this timeframe, the best combination is: 'SAR' and 'ADX'. "
   ]
  },
  {
   "cell_type": "markdown",
   "id": "e1b7ddb2",
   "metadata": {},
   "source": [
    "### <font color='navy'>  Backtesting of the best combination <font color='black'> "
   ]
  },
  {
   "cell_type": "markdown",
   "id": "c13a2474",
   "metadata": {},
   "source": [
    "Here we test a trading strategy on historical data to determine its potential for future success. It allows traders to simulate a strategy's performance without risking actual capital, providing insights into the strategy's risk and profitability before live implementation."
   ]
  },
  {
   "cell_type": "code",
   "execution_count": null,
   "id": "7dce3780",
   "metadata": {
    "scrolled": false
   },
   "outputs": [],
   "source": [
    "strategy.plot_results(best = True)"
   ]
  },
  {
   "cell_type": "markdown",
   "id": "42b2e0e7",
   "metadata": {},
   "source": [
    "### <font color='navy'>  Best model without optimization on test <font color='black'> "
   ]
  },
  {
   "cell_type": "code",
   "execution_count": null,
   "id": "dceefef6",
   "metadata": {},
   "outputs": [],
   "source": [
    "strategy.test()"
   ]
  },
  {
   "cell_type": "code",
   "execution_count": null,
   "id": "af95dcbd",
   "metadata": {
    "scrolled": true
   },
   "outputs": [],
   "source": [
    "strategy.strategy_value[-1]"
   ]
  },
  {
   "cell_type": "markdown",
   "id": "81dbb96a",
   "metadata": {},
   "source": [
    "### <font color='navy'>  Parameters Optimization <font color='black'> "
   ]
  },
  {
   "cell_type": "code",
   "execution_count": null,
   "id": "771cafe4",
   "metadata": {},
   "outputs": [],
   "source": [
    "strategy.optimize_parameters()"
   ]
  },
  {
   "cell_type": "markdown",
   "id": "8706fe08",
   "metadata": {},
   "source": [
    "### <font color='navy'>  Strategy backtest with optimized paramters <font color='black'> "
   ]
  },
  {
   "cell_type": "code",
   "execution_count": null,
   "id": "eb1b12ef",
   "metadata": {},
   "outputs": [],
   "source": [
    "strategy.plot_results(best = True)"
   ]
  },
  {
   "cell_type": "markdown",
   "id": "ce425221",
   "metadata": {},
   "source": [
    "### <font color='navy'>  Best optimized strategy | Final value <font color='black'> "
   ]
  },
  {
   "cell_type": "code",
   "execution_count": null,
   "id": "95de0bcd",
   "metadata": {},
   "outputs": [],
   "source": [
    "strategy.strategy_value[-1]"
   ]
  },
  {
   "cell_type": "markdown",
   "id": "12de4725",
   "metadata": {},
   "source": [
    "### <font color='navy'>  Run and backtest best strategy | Test data <font color='black'> "
   ]
  },
  {
   "cell_type": "code",
   "execution_count": null,
   "id": "f7a3d024",
   "metadata": {
    "scrolled": true
   },
   "outputs": [],
   "source": [
    "strategy.test()"
   ]
  },
  {
   "cell_type": "markdown",
   "id": "5669d52d",
   "metadata": {},
   "source": [
    "### <font color='navy'>  Test final value <font color='black'>"
   ]
  },
  {
   "cell_type": "code",
   "execution_count": null,
   "id": "89f7d528",
   "metadata": {},
   "outputs": [],
   "source": [
    "strategy.strategy_value[-1]"
   ]
  },
  {
   "cell_type": "markdown",
   "id": "c2836f4a",
   "metadata": {},
   "source": [
    "In the first chart, \"Best model without optimization on test,\" we see the strategy's value over a series of trades without any parameter tuning. The performance appears relatively stable, hovering around the initial strategy value, with no significant growth over the number of trades executed. This suggests that while the strategy may be consistent, it lacks the efficacy to generate substantial returns as is.\n",
    "\n",
    "Contrastingly, the second chart, \"Strategy backtest with optimized parameters,\" displays the strategy's performance after optimization. There is a noticeable difference in the strategy value, which shows greater variability and peaks that exceed the initial value by a more significant margin. This implies that the optimization process has potentially enhanced the strategy's ability to capitalize on profitable opportunities in the market.\n",
    "\n",
    "The comparison between the two suggests that optimization can have a marked impact on a trading strategy's success, enhancing its ability to generate returns. However, the increased variability also hints at potentially higher risk, which underscores the importance of risk management in trading strategy development. The results also serve as a reminder that past performance is not indicative of future results, and even an optimized strategy should be approached with caution and monitored closely."
   ]
  },
  {
   "cell_type": "markdown",
   "id": "6c956d44",
   "metadata": {},
   "source": [
    "## Pasive Strategy\n",
    "Passive investing is an investment strategy to maximize returns by minimizing buying and selling."
   ]
  },
  {
   "cell_type": "code",
   "execution_count": null,
   "id": "11abdfff",
   "metadata": {},
   "outputs": [],
   "source": [
    "# Convert the 'Date' column to datetime type\n",
    "data['Date'] = pd.to_datetime(data['Date'])\n",
    "\n",
    "# Get the closing price of the first and last data\n",
    "first_close = data.iloc[0]['Close']\n",
    "last_close = data.iloc[-1]['Close']\n",
    "\n",
    "# Calculate the passive asset return\n",
    "passive_return = (last_close - first_close) / first_close\n",
    "\n",
    "print(\"The passive asset return from the first close to the last close is: {:.2%}\".format(passive_return))\n",
    "\n",
    "# Comparison with the strategy used\n",
    "cash = 1000000\n",
    "cash_final = 1107153.05\n",
    "strategy_return = (cash_final - cash) / cash\n",
    "print(\"The strategy return from the first close to the last close is: {:.2%}\".format(strategy_return))\n",
    "\n",
    "# Sort the data by date if they are not sorted\n",
    "data = data.sort_values(by='Date')\n",
    "plt.figure(figsize=(12, 8))\n",
    "plt.plot(data['Date'], data['Close'], label='Closing Price', color='blue')\n",
    "plt.title('Closing Price of the Asset')\n",
    "plt.xlabel('Date')\n",
    "plt.ylabel('Closing Price')\n",
    "plt.legend()\n",
    "plt.grid(True)\n",
    "plt.show()\n",
    "\n",
    "# Calculate the cumulative return\n",
    "data['Returns'] = data['Close'].pct_change().fillna(0)\n",
    "\n",
    "# Calculate the cumulative value\n",
    "initial_investment = cash\n",
    "data['Investment_Value'] = (1 + data['Returns']).cumprod() * initial_investment\n",
    "plt.figure(figsize=(12, 8))\n",
    "plt.plot(data['Date'], data['Investment_Value'], label='Investment Value', color='green')\n",
    "plt.title('Investment Return')\n",
    "plt.xlabel('Date')\n",
    "plt.ylabel('Investment Value')\n",
    "plt.legend()\n",
    "plt.grid(True)\n",
    "plt.show()\n",
    "\n",
    "final_value = data['Investment_Value'].iloc[-1]\n",
    "print(\"The final value of the passive investment: ${:,.2f}\".format(final_value))\n"
   ]
  },
  {
   "cell_type": "markdown",
   "id": "4db786d8",
   "metadata": {},
   "source": [
    "The passive asset, represented by the underlying security, demonstrated a substantial return of 18.54% from the initial to the final closing prices, indicating favorable market conditions over the observed period. On the other hand, the implemented strategy yielded a lower return of 10.72%, suggesting that while it still produced positive results, it underperformed compared to simply holding the asset passively. This observation prompts a critical examination of the strategy's effectiveness and highlights the importance of continuously evaluating and adjusting investment strategies to optimize returns in evolving market environments."
   ]
  },
  {
   "cell_type": "code",
   "execution_count": null,
   "id": "09aaf981",
   "metadata": {},
   "outputs": [],
   "source": []
  }
 ],
 "metadata": {
  "kernelspec": {
   "display_name": "Python 3 (ipykernel)",
   "language": "python",
   "name": "python3"
  },
  "language_info": {
   "codemirror_mode": {
    "name": "ipython",
    "version": 3
   },
   "file_extension": ".py",
   "mimetype": "text/x-python",
   "name": "python",
   "nbconvert_exporter": "python",
   "pygments_lexer": "ipython3",
   "version": "3.11.4"
  }
 },
 "nbformat": 4,
 "nbformat_minor": 5
}
